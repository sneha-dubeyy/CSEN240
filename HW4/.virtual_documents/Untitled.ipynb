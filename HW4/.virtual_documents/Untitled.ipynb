# Sneha Dubey
# Dr. Cui
# CSEN 240
# 22 November 2024


# Homework 4 Code


# Problem 1

import numpy as np
from scipy.optimize import minimize_scalar

data = np.array([3, 0, 2, 1, 3, 2, 1, 0, 2, 1])

def likelihood(theta):
    p_x = np.array([2 * theta / 3, theta / 3, 2 * (1 - theta) / 3, (1 - theta) / 3])
    return -np.sum(np.log(p_x[data]))

result = minimize_scalar(likelihood, bounds=(0, 1), method='bounded')

result = result.x

print(round(result, 2))









