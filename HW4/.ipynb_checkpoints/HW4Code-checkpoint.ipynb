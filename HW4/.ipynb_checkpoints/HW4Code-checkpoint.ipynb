{
 "cells": [
  {
   "cell_type": "code",
   "execution_count": null,
   "id": "96c47ad2-2396-4e80-9468-988ed5fdea54",
   "metadata": {},
   "outputs": [],
   "source": [
    "# Sneha Dubey\n",
    "# Dr. Cui\n",
    "# CSEN 240\n",
    "# 22 November 2024"
   ]
  },
  {
   "cell_type": "code",
   "execution_count": null,
   "id": "20f3d45b-d538-4fee-8219-3ec2b05da029",
   "metadata": {},
   "outputs": [],
   "source": [
    "# Homework 4 Code"
   ]
  },
  {
   "cell_type": "code",
   "execution_count": 3,
   "id": "fadb8d9e-fb14-4c5e-a6b3-fa33333b2982",
   "metadata": {},
   "outputs": [
    {
     "name": "stdout",
     "output_type": "stream",
     "text": [
      "0.5\n"
     ]
    }
   ],
   "source": [
    "# Problem 1\n",
    "\n",
    "import numpy as np\n",
    "from scipy.optimize import minimize_scalar\n",
    "\n",
    "data = np.array([3, 0, 2, 1, 3, 2, 1, 0, 2, 1])\n",
    "\n",
    "def likelihood(theta):\n",
    "    p_x = np.array([2 * theta / 3, theta / 3, 2 * (1 - theta) / 3, (1 - theta) / 3])\n",
    "    return -np.sum(np.log(p_x[data]))\n",
    "\n",
    "result = minimize_scalar(likelihood, bounds=(0, 1), method='bounded')\n",
    "\n",
    "result = result.x\n",
    "\n",
    "print(round(result, 2))"
   ]
  },
  {
   "cell_type": "code",
   "execution_count": null,
   "id": "9d1e6bb4-e829-4e85-a79b-3f0899df992d",
   "metadata": {},
   "outputs": [],
   "source": []
  },
  {
   "cell_type": "code",
   "execution_count": null,
   "id": "69c928d5-5674-4067-a169-16ea32d119e1",
   "metadata": {},
   "outputs": [],
   "source": []
  },
  {
   "cell_type": "code",
   "execution_count": null,
   "id": "16ff5337-fb7b-4fe0-b2ef-ce87be487991",
   "metadata": {},
   "outputs": [],
   "source": []
  }
 ],
 "metadata": {
  "kernelspec": {
   "display_name": "Python 3 (ipykernel)",
   "language": "python",
   "name": "python3"
  },
  "language_info": {
   "codemirror_mode": {
    "name": "ipython",
    "version": 3
   },
   "file_extension": ".py",
   "mimetype": "text/x-python",
   "name": "python",
   "nbconvert_exporter": "python",
   "pygments_lexer": "ipython3",
   "version": "3.12.4"
  }
 },
 "nbformat": 4,
 "nbformat_minor": 5
}
