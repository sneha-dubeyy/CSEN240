{
 "cells": [
  {
   "cell_type": "code",
   "execution_count": 1,
   "id": "68b343bb",
   "metadata": {},
   "outputs": [],
   "source": [
    "# Sneha Dubey\n",
    "# Dr. Cui\n",
    "# CSEN 240\n",
    "# 11 October 2024"
   ]
  },
  {
   "cell_type": "code",
   "execution_count": 2,
   "id": "1e039c0c",
   "metadata": {},
   "outputs": [],
   "source": [
    "# Homework 1 Problem 2"
   ]
  },
  {
   "cell_type": "code",
   "execution_count": 3,
   "id": "26719f26",
   "metadata": {},
   "outputs": [],
   "source": [
    "# Imports\n",
    "import pandas as pd\n",
    "import tensorflow as tf\n",
    "import numpy as np\n",
    "from sklearn.model_selection import train_test_split"
   ]
  },
  {
   "cell_type": "code",
   "execution_count": 4,
   "id": "87162600",
   "metadata": {},
   "outputs": [],
   "source": [
    "# Step 1: Load the Data"
   ]
  },
  {
   "cell_type": "code",
   "execution_count": 5,
   "id": "ded890a8",
   "metadata": {},
   "outputs": [],
   "source": [
    "file = \"./pima-indians-diabetes.xlsx\"\n",
    "originalData = pd.read_excel(file)"
   ]
  },
  {
   "cell_type": "code",
   "execution_count": null,
   "id": "aa4e1ba6",
   "metadata": {},
   "outputs": [],
   "source": []
  },
  {
   "cell_type": "code",
   "execution_count": 6,
   "id": "8e5cf8b2",
   "metadata": {},
   "outputs": [],
   "source": [
    "# Step 2: Run the Experiment (saving each accuracy result)"
   ]
  },
  {
   "cell_type": "code",
   "execution_count": 7,
   "id": "fb7166a8",
   "metadata": {},
   "outputs": [
    {
     "ename": "IndentationError",
     "evalue": "expected an indented block after 'for' statement on line 4 (473207522.py, line 8)",
     "output_type": "error",
     "traceback": [
      "\u001b[0;36m  Cell \u001b[0;32mIn[7], line 8\u001b[0;36m\u001b[0m\n\u001b[0;31m    n80Accuracies = 0\u001b[0m\n\u001b[0m    ^\u001b[0m\n\u001b[0;31mIndentationError\u001b[0m\u001b[0;31m:\u001b[0m expected an indented block after 'for' statement on line 4\n"
     ]
    }
   ],
   "source": [
    "numExperiments = 1000\n",
    "\n",
    "n40Accuracies = 0\n",
    "for currExperiment in range(0, numExperiments):\n",
    "    continue\n",
    "    #run experiment for 40\n",
    "    #save accuracies\n",
    "\n",
    "n80Accuracies = 0\n",
    "for currExperiment in range(0, numExperiments):\n",
    "    continue\n",
    "    #run experiment for 80\n",
    "    #save accuracies\n",
    "\n",
    "n120Accuracies = 0\n",
    "for currExperiment in range(0, numExperiments):\n",
    "    continue\n",
    "    #run experiment for 120\n",
    "    #save accuracies\n",
    "\n",
    "n160Accuracies = 0\n",
    "for currExperiment in range(0, numExperiments):\n",
    "    continue\n",
    "    #run experiment for 160\n",
    "    #save accuracies\n",
    "\n",
    "n200Accuracies = 0\n",
    "for currExperiment in range(0, numExperiments):\n",
    "    continue\n",
    "    #run experiment for 200\n",
    "    #save accuracies"
   ]
  },
  {
   "cell_type": "code",
   "execution_count": null,
   "id": "957d4948",
   "metadata": {},
   "outputs": [],
   "source": [
    "\n",
    "    "
   ]
  },
  {
   "cell_type": "code",
   "execution_count": null,
   "id": "4b38708c",
   "metadata": {},
   "outputs": [],
   "source": [
    "# Step 3: Plot the Results"
   ]
  },
  {
   "cell_type": "code",
   "execution_count": null,
   "id": "7d69f0d6",
   "metadata": {},
   "outputs": [],
   "source": []
  }
 ],
 "metadata": {
  "kernelspec": {
   "display_name": "Python 3 (ipykernel)",
   "language": "python",
   "name": "python3"
  },
  "language_info": {
   "codemirror_mode": {
    "name": "ipython",
    "version": 3
   },
   "file_extension": ".py",
   "mimetype": "text/x-python",
   "name": "python",
   "nbconvert_exporter": "python",
   "pygments_lexer": "ipython3",
   "version": "3.10.9"
  }
 },
 "nbformat": 4,
 "nbformat_minor": 5
}
