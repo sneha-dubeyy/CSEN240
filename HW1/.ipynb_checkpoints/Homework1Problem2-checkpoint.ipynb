{
 "cells": [
  {
   "cell_type": "code",
   "execution_count": 1,
   "id": "68b343bb",
   "metadata": {},
   "outputs": [],
   "source": [
    "# Sneha Dubey\n",
    "# Dr. Cui\n",
    "# CSEN 240\n",
    "# 11 October 2024"
   ]
  },
  {
   "cell_type": "code",
   "execution_count": 2,
   "id": "1e039c0c",
   "metadata": {},
   "outputs": [],
   "source": [
    "# Homework 1 Problem 2"
   ]
  },
  {
   "cell_type": "code",
   "execution_count": null,
   "id": "26719f26",
   "metadata": {},
   "outputs": [],
   "source": [
    "# Imports\n",
    "import pandas as pd\n",
    "import tensorflow as tf\n",
    "import numpy as np\n",
    "from sklearn.model_selection import train_test_split"
   ]
  },
  {
   "cell_type": "code",
   "execution_count": null,
   "id": "87162600",
   "metadata": {},
   "outputs": [],
   "source": [
    "# Step 1: Load the Data"
   ]
  },
  {
   "cell_type": "code",
   "execution_count": null,
   "id": "ded890a8",
   "metadata": {},
   "outputs": [],
   "source": [
    "file = \"./pima-indians-diabetes.xlsx\"\n",
    "originalData = pd.read_excel(file)"
   ]
  },
  {
   "cell_type": "code",
   "execution_count": null,
   "id": "aa4e1ba6",
   "metadata": {},
   "outputs": [],
   "source": []
  },
  {
   "cell_type": "code",
   "execution_count": null,
   "id": "8e5cf8b2",
   "metadata": {},
   "outputs": [],
   "source": [
    "# Step 2: Run the Experiment (saving each accuracy result)"
   ]
  },
  {
   "cell_type": "code",
   "execution_count": null,
   "id": "fb7166a8",
   "metadata": {},
   "outputs": [],
   "source": [
    "numExperiments = 1000\n",
    "\n",
    "n40Accuracies = []\n",
    "for currExperiment in range(0, numExperiments):\n",
    "    #run experiment for 40\n",
    "    #save accuracies\n",
    "\n",
    "n80Accuracies = []\n",
    "for currExperiment in range(0, numExperiments):\n",
    "    #run experiment for 80\n",
    "    #save accuracies\n",
    "\n",
    "n120Accuracies = []\n",
    "for currExperiment in range(0, numExperiments):\n",
    "    #run experiment for 120\n",
    "    #save accuracies\n",
    "\n",
    "n160Accuracies = []\n",
    "for currExperiment in range(0, numExperiments):\n",
    "    #run experiment for 160\n",
    "    #save accuracies\n",
    "\n",
    "n200Accuracies = []\n",
    "for currExperiment in range(0, numExperiments):\n",
    "    #run experiment for 200\n",
    "    #save accuracies"
   ]
  },
  {
   "cell_type": "code",
   "execution_count": null,
   "id": "957d4948",
   "metadata": {},
   "outputs": [],
   "source": [
    "\n",
    "    "
   ]
  },
  {
   "cell_type": "code",
   "execution_count": null,
   "id": "4b38708c",
   "metadata": {},
   "outputs": [],
   "source": [
    "# Step 3: Plot the Results"
   ]
  },
  {
   "cell_type": "code",
   "execution_count": null,
   "id": "7d69f0d6",
   "metadata": {},
   "outputs": [],
   "source": []
  }
 ],
 "metadata": {
  "kernelspec": {
   "display_name": "Python 3 (ipykernel)",
   "language": "python",
   "name": "python3"
  },
  "language_info": {
   "codemirror_mode": {
    "name": "ipython",
    "version": 3
   },
   "file_extension": ".py",
   "mimetype": "text/x-python",
   "name": "python",
   "nbconvert_exporter": "python",
   "pygments_lexer": "ipython3",
   "version": "3.10.9"
  }
 },
 "nbformat": 4,
 "nbformat_minor": 5
}
