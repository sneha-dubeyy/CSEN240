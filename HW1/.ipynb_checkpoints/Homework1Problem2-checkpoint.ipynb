{
 "cells": [
  {
   "cell_type": "code",
   "execution_count": 1,
   "id": "68b343bb",
   "metadata": {},
   "outputs": [],
   "source": [
    "# Sneha Dubey\n",
    "# Dr. Cui\n",
    "# CSEN 240\n",
    "# 11 October 2024"
   ]
  },
  {
   "cell_type": "code",
   "execution_count": 2,
   "id": "1e039c0c",
   "metadata": {},
   "outputs": [],
   "source": [
    "# Homework 1 Problem 2"
   ]
  },
  {
   "cell_type": "code",
   "execution_count": null,
   "id": "26719f26",
   "metadata": {},
   "outputs": [],
   "source": [
    "# Imports\n",
    "import pandas as pd\n",
    "import tensorflow as tf\n",
    "import numpy as np\n",
    "from sklearn.model_selection import train_test_split"
   ]
  },
  {
   "cell_type": "code",
   "execution_count": null,
   "id": "87162600",
   "metadata": {},
   "outputs": [],
   "source": [
    "# Step 1: Load and Split the Data"
   ]
  },
  {
   "cell_type": "code",
   "execution_count": null,
   "id": "ded890a8",
   "metadata": {},
   "outputs": [],
   "source": [
    "file = \"./pima-indians-diabetes.xlsx\"\n",
    "originalData = pd.read_excel(file)"
   ]
  },
  {
   "cell_type": "code",
   "execution_count": null,
   "id": "aa4e1ba6",
   "metadata": {},
   "outputs": [],
   "source": [
    "numOriginalObjects = len(originalData)\n",
    "targets = originalData['Outcome']\n",
    "noTargetData = originalData.drop(columns = ['Outcome'])"
   ]
  },
  {
   "cell_type": "code",
   "execution_count": null,
   "id": "493e5cd7",
   "metadata": {},
   "outputs": [],
   "source": [
    "X_train, X_test, t_train, t_test = train_test_split(noTargetData, targets, test_size = 0.2, random_state = 42)\n",
    "\n",
    "numTrain, numFeatures = X_train.shape\n",
    "numTest, numFeatures = X_test.shape"
   ]
  },
  {
   "cell_type": "code",
   "execution_count": null,
   "id": "cb60275f",
   "metadata": {},
   "outputs": [],
   "source": [
    "X = tf.placeholder(tf.float64, shape = (None, numFeatures), name = 'X')\n",
    "T = tf.placeholder(tf.float64, shape = (None, 1), name = 't')\n",
    "n = tf.placeholder(tf.float64, name = 'n')\n",
    "XT = tf.transpose(X)\n",
    "w = tf.matmul(tf.matmul(tf.matrix_inverse(tf.matmul(XT, X)), XT), t)"
   ]
  },
  {
   "cell_type": "code",
   "execution_count": null,
   "id": "8e5cf8b2",
   "metadata": {},
   "outputs": [],
   "source": [
    "# Step 2: Run the Experiment (saving each accuracy result)"
   ]
  },
  {
   "cell_type": "code",
   "execution_count": null,
   "id": "fb7166a8",
   "metadata": {},
   "outputs": [],
   "source": [
    "pip show tensorflow"
   ]
  },
  {
   "cell_type": "code",
   "execution_count": null,
   "id": "4b38708c",
   "metadata": {},
   "outputs": [],
   "source": [
    "# Step 3: Plot the Results"
   ]
  },
  {
   "cell_type": "code",
   "execution_count": null,
   "id": "7d69f0d6",
   "metadata": {},
   "outputs": [],
   "source": []
  }
 ],
 "metadata": {
  "kernelspec": {
   "display_name": "Python 3 (ipykernel)",
   "language": "python",
   "name": "python3"
  },
  "language_info": {
   "codemirror_mode": {
    "name": "ipython",
    "version": 3
   },
   "file_extension": ".py",
   "mimetype": "text/x-python",
   "name": "python",
   "nbconvert_exporter": "python",
   "pygments_lexer": "ipython3",
   "version": "3.10.9"
  }
 },
 "nbformat": 4,
 "nbformat_minor": 5
}
