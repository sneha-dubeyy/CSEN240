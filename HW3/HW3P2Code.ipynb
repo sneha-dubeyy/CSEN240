{
 "cells": [
  {
   "cell_type": "code",
   "execution_count": 1,
   "id": "6ab91ccf-57a2-4c41-988d-29028020ab0e",
   "metadata": {},
   "outputs": [],
   "source": [
    "# Sneha Dubey\n",
    "# Dr. Cui\n",
    "# CSEN 240\n",
    "# 12 November 2024"
   ]
  },
  {
   "cell_type": "code",
   "execution_count": 2,
   "id": "cc7d9937-67b4-4a73-9262-0bbf019152e3",
   "metadata": {},
   "outputs": [],
   "source": [
    "# Homework 3 Problem 2"
   ]
  },
  {
   "cell_type": "code",
   "execution_count": 3,
   "id": "5cb5e5d8-6ca5-43e6-800d-e931b9bf8816",
   "metadata": {},
   "outputs": [],
   "source": [
    "import numpy as np\n",
    "import tensorflow as tf\n",
    "from sklearn.linear_model import LogisticRegression\n",
    "from sklearn.model_selection import train_test_split\n",
    "from sklearn.metrics import accuracy_score, confusion_matrix"
   ]
  },
  {
   "cell_type": "code",
   "execution_count": 4,
   "id": "26774fb8-fd84-476e-90ad-274fa9b3a31c",
   "metadata": {},
   "outputs": [],
   "source": [
    "# Provided Code\n",
    "mnist = tf.keras.datasets.mnist\n",
    "(x_traino, y_train), (x_testo, y_test) = mnist.load_data()\n",
    "x_train = np.reshape(x_traino, (60000, 28 * 28))\n",
    "x_test = np.reshape(x_testo, (10000, 28 * 28))\n",
    "x_train, x_test = x_train / 255.0, x_test / 255.0\n",
    "\n",
    "logreg = LogisticRegression(solver = 'saga', max_iter = 100, verbose = 2)"
   ]
  },
  {
   "cell_type": "code",
   "execution_count": 5,
   "id": "b497c591-b29b-44c9-aa8d-27dd82eb7796",
   "metadata": {},
   "outputs": [
    {
     "name": "stdout",
     "output_type": "stream",
     "text": [
      "max_iter reached after 184 seconds\n",
      "Accuracy Rate: \n",
      "0.9263\n",
      "-------------------------------------------\n",
      "Confusion Matrix: \n"
     ]
    },
    {
     "name": "stderr",
     "output_type": "stream",
     "text": [
      "/opt/anaconda3/envs/tfenv/lib/python3.11/site-packages/sklearn/linear_model/_sag.py:349: ConvergenceWarning: The max_iter was reached which means the coef_ did not converge\n",
      "  warnings.warn(\n"
     ]
    },
    {
     "data": {
      "text/plain": [
       "array([[ 957,    0,    0,    4,    1,   10,    4,    3,    1,    0],\n",
       "       [   0, 1110,    5,    2,    0,    2,    3,    2,   11,    0],\n",
       "       [   6,   10,  929,   15,   10,    3,   13,   10,   32,    4],\n",
       "       [   4,    1,   16,  923,    1,   24,    2,   10,   20,    9],\n",
       "       [   1,    3,    7,    3,  920,    0,    7,    4,    6,   31],\n",
       "       [   9,    2,    3,   35,   10,  778,   15,    6,   30,    4],\n",
       "       [   8,    3,    8,    2,    6,   15,  913,    2,    1,    0],\n",
       "       [   1,    8,   23,    7,    6,    1,    0,  949,    1,   32],\n",
       "       [   9,   11,    6,   22,    7,   29,   13,    9,  856,   12],\n",
       "       [   9,    8,    1,    9,   21,    7,    0,   20,    6,  928]])"
      ]
     },
     "execution_count": 5,
     "metadata": {},
     "output_type": "execute_result"
    }
   ],
   "source": [
    "# My Code\n",
    "logreg.fit(x_train, y_train)\n",
    "\n",
    "y_pred = logreg.predict(x_test)\n",
    "\n",
    "\n",
    "accuracy = accuracy_score(y_test, y_pred)\n",
    "confusionMatrix = confusion_matrix(y_test, y_pred)\n",
    "\n",
    "print(\"Accuracy Rate: \")\n",
    "print(accuracy)\n",
    "print(\"-------------------------------------------\")\n",
    "print(\"Confusion Matrix: \")\n",
    "confusionMatrix"
   ]
  },
  {
   "cell_type": "code",
   "execution_count": null,
   "id": "df8015b9-329b-4194-a7e6-4138c218b473",
   "metadata": {},
   "outputs": [],
   "source": []
  }
 ],
 "metadata": {
  "kernelspec": {
   "display_name": "Python 3 (ipykernel)",
   "language": "python",
   "name": "python3"
  },
  "language_info": {
   "codemirror_mode": {
    "name": "ipython",
    "version": 3
   },
   "file_extension": ".py",
   "mimetype": "text/x-python",
   "name": "python",
   "nbconvert_exporter": "python",
   "pygments_lexer": "ipython3",
   "version": "3.11.0"
  }
 },
 "nbformat": 4,
 "nbformat_minor": 5
}
