{
 "cells": [
  {
   "cell_type": "code",
   "execution_count": 1,
   "id": "5e5092e4-6e0e-4c78-841e-b44bae789e57",
   "metadata": {},
   "outputs": [],
   "source": [
    "# Sneha Dubey\n",
    "# Dr. Cui\n",
    "# CSEN 240\n",
    "# 12 November 2024"
   ]
  },
  {
   "cell_type": "code",
   "execution_count": 2,
   "id": "01ef0835-b6d4-43e4-b699-bbfeb14e7b1d",
   "metadata": {},
   "outputs": [],
   "source": [
    "# Homework 3 Problem 3"
   ]
  },
  {
   "cell_type": "code",
   "execution_count": 3,
   "id": "115c6a7f-ce79-491d-8697-51c91eeb68e1",
   "metadata": {},
   "outputs": [],
   "source": [
    "import tensorflow as tf\n",
    "from sklearn.metrics import confusion_matrix, accuracy_score\n",
    "import numpy as np"
   ]
  },
  {
   "cell_type": "code",
   "execution_count": 4,
   "id": "daf4ec39-f18b-4419-a14a-eaca6e6c9ed6",
   "metadata": {},
   "outputs": [],
   "source": [
    "# Provided Code\n",
    "mnist = tf.keras.datasets.mnist\n",
    "(x_traino, y_train), (x_testo, y_test) = mnist.load_data()\n",
    "x_train = np.reshape(x_traino, (60000, 28 * 28))\n",
    "x_test = np.reshape(x_testo, (10000, 28 * 28))\n",
    "x_train, x_test = x_train / 255.0, x_test / 255.0"
   ]
  },
  {
   "cell_type": "code",
   "execution_count": 5,
   "id": "70e340a6-567b-4dac-bd00-bd2660cbc4f9",
   "metadata": {},
   "outputs": [
    {
     "name": "stdout",
     "output_type": "stream",
     "text": [
      "Epoch 1/5\n"
     ]
    },
    {
     "name": "stderr",
     "output_type": "stream",
     "text": [
      "2024-11-12 17:01:30.103217: W tensorflow/tsl/platform/profile_utils/cpu_utils.cc:128] Failed to get CPU frequency: 0 Hz\n"
     ]
    },
    {
     "name": "stdout",
     "output_type": "stream",
     "text": [
      "1875/1875 - 2s - loss: 0.1990 - accuracy: 0.9410 - 2s/epoch - 1ms/step\n",
      "Epoch 2/5\n",
      "1875/1875 - 2s - loss: 0.0803 - accuracy: 0.9755 - 2s/epoch - 1ms/step\n",
      "Epoch 3/5\n",
      "1875/1875 - 2s - loss: 0.0519 - accuracy: 0.9840 - 2s/epoch - 1ms/step\n",
      "Epoch 4/5\n",
      "1875/1875 - 2s - loss: 0.0370 - accuracy: 0.9884 - 2s/epoch - 1ms/step\n",
      "Epoch 5/5\n",
      "1875/1875 - 2s - loss: 0.0289 - accuracy: 0.9905 - 2s/epoch - 1ms/step\n",
      "313/313 [==============================] - 0s 522us/step\n",
      "\n",
      "Accuracy Rate: \n",
      "0.9784\n",
      "-------------------------------------------\n",
      "Confusion Matrix: \n",
      "[[ 972    1    0    0    1    0    1    0    2    3]\n",
      " [   0 1124    2    1    0    2    1    1    3    1]\n",
      " [   5    0 1013    2    2    0    2    3    4    1]\n",
      " [   0    0    4  988    0    3    0    5    3    7]\n",
      " [   3    0    3    0  950    0    2    0    1   23]\n",
      " [   4    0    0    8    2  870    1    1    3    3]\n",
      " [   5    2    0    1    2   15  931    0    2    0]\n",
      " [   2    1    8    1    0    0    0 1002    3   11]\n",
      " [   7    0    1    4    4    2    2    3  941   10]\n",
      " [   2    2    0    2    4    1    1    4    0  993]]\n"
     ]
    }
   ],
   "source": [
    "# My Code\n",
    "neuralNetwork = tf.keras.Sequential([tf.keras.layers.Dense(512, activation = 'relu', input_shape = (28 * 28,)), tf.keras.layers.Dense(10, activation = 'softmax')])\n",
    "neuralNetwork.compile(optimizer = 'adam', loss = 'sparse_categorical_crossentropy', metrics = ['accuracy'])\n",
    "neuralNetwork.fit(x_train, y_train, epochs = 5, batch_size = 32, verbose = 2)\n",
    "\n",
    "test_loss, test_accuracy = neuralNetwork.evaluate(x_test, y_test, verbose = 0)\n",
    "\n",
    "y_pred = np.argmax(neuralNetwork.predict(x_test), axis = -1)\n",
    "\n",
    "accuracy = accuracy_score(y_test, y_pred)\n",
    "confusionMatrix = confusion_matrix(y_test, y_pred)\n",
    "\n",
    "print()\n",
    "print(\"Accuracy Rate: \")\n",
    "print(accuracy)\n",
    "print(\"-------------------------------------------\")\n",
    "print(\"Confusion Matrix: \")\n",
    "print(confusionMatrix)"
   ]
  }
 ],
 "metadata": {
  "kernelspec": {
   "display_name": "Python 3 (ipykernel)",
   "language": "python",
   "name": "python3"
  },
  "language_info": {
   "codemirror_mode": {
    "name": "ipython",
    "version": 3
   },
   "file_extension": ".py",
   "mimetype": "text/x-python",
   "name": "python",
   "nbconvert_exporter": "python",
   "pygments_lexer": "ipython3",
   "version": "3.11.0"
  }
 },
 "nbformat": 4,
 "nbformat_minor": 5
}
